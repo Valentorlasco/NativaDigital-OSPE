{
 "cells": [
  {
   "cell_type": "code",
   "execution_count": 1,
   "metadata": {},
   "outputs": [],
   "source": [
    "import langgraph"
   ]
  },
  {
   "cell_type": "code",
   "execution_count": 2,
   "metadata": {},
   "outputs": [],
   "source": [
    "# Configuración inicial\n",
    "import os\n",
    "from dotenv import load_dotenv\n",
    "\n",
    "# Cargar variables de entorno desde el archivo .env\n",
    "load_dotenv()\n",
    "\n",
    "# Verificar si la clave API de Groq está presente\n",
    "if 'GROQ_API_KEY' not in os.environ:\n",
    "    raise ValueError(\"La clave API de Groq no está configurada en el archivo .env\")"
   ]
  },
  {
   "cell_type": "code",
   "execution_count": 3,
   "metadata": {},
   "outputs": [],
   "source": [
    "from langchain_groq import ChatGroq\n",
    "from typing import Annotated\n",
    "from typing_extensions import TypedDict\n",
    "from langgraph.graph import StateGraph, START, END\n",
    "from langgraph.graph.message import add_messages\n",
    "from langchain.schema import HumanMessage, AIMessage, SystemMessage, FunctionMessage"
   ]
  },
  {
   "cell_type": "code",
   "execution_count": 16,
   "metadata": {},
   "outputs": [],
   "source": [
    "#primero defino el LLM\n",
    "\n",
    "llm= ChatGroq(temperature=0, model_name=\"llama3-70b-8192\")"
   ]
  },
  {
   "cell_type": "code",
   "execution_count": 5,
   "metadata": {},
   "outputs": [],
   "source": [
    "#defino que mi state va a ser unicamente una lista de mensajes\n",
    "\n",
    "class State(TypedDict):\n",
    "    messages: Annotated[list, add_messages]"
   ]
  },
  {
   "cell_type": "code",
   "execution_count": 62,
   "metadata": {},
   "outputs": [],
   "source": [
    "system_prompt_template = \"\"\"Eres un asistente de la nueva obra social llamada OSPE, tu trabajo es derivar a los pacientes que escriban por el chatbot consultando por turnos medicos, asistencia o por alguna consulta basica de medicina (por ejemplo que medicamento tomar si me duele la garganta). \n",
    "Deberias poder identificar que le sucede al paciente consultandole sus sintomas si es que los tiene y luego recomendarle un turno con la especialidad detectada.\n",
    "\"\"\""
   ]
  },
  {
   "cell_type": "code",
   "execution_count": 63,
   "metadata": {},
   "outputs": [],
   "source": [
    "def chatbot(state: State):\n",
    "    system_prompt = system_prompt_template\n",
    "    \n",
    "    messages = [SystemMessage(content=system_prompt)] + state[\"messages\"]\n",
    "    response = llm.invoke(messages)\n",
    "    return {\"messages\": [response]}"
   ]
  },
  {
   "cell_type": "code",
   "execution_count": 8,
   "metadata": {},
   "outputs": [],
   "source": [
    "graph_builder = StateGraph(State)\n",
    "\n",
    "graph_builder.add_node(\"chatbot\", chatbot)\n",
    "\n",
    "graph_builder.add_edge(START, \"chatbot\")\n",
    "\n",
    "graph_builder.add_edge(\"chatbot\", END)\n",
    "\n",
    "graph = graph_builder.compile()"
   ]
  },
  {
   "cell_type": "code",
   "execution_count": 11,
   "metadata": {},
   "outputs": [
    {
     "data": {
      "image/jpeg": "[encoded data removed]",
      "text/plain": [
       "<IPython.core.display.Image object>"
      ]
     },
     "metadata": {},
     "output_type": "display_data"
    }
   ],
   "source": [
    "from IPython.display import Image, display\n",
    "\n",
    "try:\n",
    "    display(Image(graph.get_graph().draw_mermaid_png()))\n",
    "except Exception:\n",
    "    # This requires some extra dependencies and is optional\n",
    "    pass"
   ]
  },
  {
   "cell_type": "code",
   "execution_count": 9,
   "metadata": {},
   "outputs": [],
   "source": [
    "def add_message(message_content: str, is_human: bool, previous_state: State = None) -> State:\n",
    "    if previous_state is None:\n",
    "        previous_state = {\"messages\": []}\n",
    "    new_message = HumanMessage(content=message_content) if is_human else AIMessage(content=message_content)\n",
    "    return {\n",
    "        \"messages\": previous_state[\"messages\"] + [new_message]\n",
    "    }"
   ]
  },
  {
   "cell_type": "code",
   "execution_count": 66,
   "metadata": {},
   "outputs": [],
   "source": [
    "result = {'messages': []}"
   ]
  },
  {
   "cell_type": "code",
   "execution_count": 76,
   "metadata": {},
   "outputs": [],
   "source": [
    "#esta es la celda que tengo que editar para agregarun nuevo mensaje\n",
    "\n",
    "state = add_message(\"esoy von estos sintomas hace una semana, es tos seca y me duele la garganta. mi temperatura de fiebre es de 38 grados\", is_human=True, previous_state=result)"
   ]
  },
  {
   "cell_type": "code",
   "execution_count": 77,
   "metadata": {},
   "outputs": [
    {
     "data": {
      "text/plain": [
       "{'messages': [HumanMessage(content='Hola', id='3c18eb29-a936-41a2-b912-6cf741b2ad1f'),\n",
       "  AIMessage(content='Hola! Bienvenido a OSPE, la obra social que te brinda atención médica de calidad. ¿En qué puedo ayudarte hoy? ¿Necesitas un turno médico, tienes alguna consulta o síntoma que te preocupa?', response_metadata={'token_usage': {'completion_tokens': 54, 'prompt_tokens': 118, 'total_tokens': 172, 'completion_time': 0.169587042, 'prompt_time': 0.007611643, 'queue_time': -0.0013178530000000008, 'total_time': 0.177198685}, 'model_name': 'llama3-70b-8192', 'system_fingerprint': 'fp_753a4aecf6', 'finish_reason': 'stop', 'logprobs': None}, id='run-a221f700-8ffc-441f-a33a-23e2ba32d715-0', usage_metadata={'input_tokens': 118, 'output_tokens': 54, 'total_tokens': 172}),\n",
       "  HumanMessage(content='Necesito un turno medico', id='141afcf3-ad10-413d-a734-eb7b97952470'),\n",
       "  AIMessage(content='¡Claro! Para poder derivarte a un turno médico adecuado, necesito saber un poco más sobre tu situación. ¿Cuál es el motivo por el que necesitas un turno médico? ¿Tienes algún síntoma o dolor en particular? ¿Has tenido algún problema de salud reciente?\\n\\nPor favor, dime un poco más sobre lo que te pasa, para que pueda orientarte hacia la especialidad adecuada.', response_metadata={'token_usage': {'completion_tokens': 92, 'prompt_tokens': 189, 'total_tokens': 281, 'completion_time': 0.288498998, 'prompt_time': 0.014486863, 'queue_time': 0.0038440859999999983, 'total_time': 0.302985861}, 'model_name': 'llama3-70b-8192', 'system_fingerprint': 'fp_753a4aecf6', 'finish_reason': 'stop', 'logprobs': None}, id='run-e1a8849b-e5c9-4bce-867a-bfee03b8339a-0', usage_metadata={'input_tokens': 189, 'output_tokens': 92, 'total_tokens': 281}),\n",
       "  HumanMessage(content='Tengo tos y fiebre', id='6d42b4c7-dbde-4b26-9ad5-619ba59ec710'),\n",
       "  AIMessage(content='Lo siento. La tos y la fiebre pueden ser síntomas de varias condiciones. Para poder ayudarte mejor, te haré algunas preguntas más.\\n\\n¿Cuánto tiempo llevas con la tos y la fiebre? ¿Es una tos seca o productiva (es decir, estás escupiendo moco)? ¿Cuál es la temperatura de tu fiebre (si la has medido)? ¿Tienes algún otro síntoma adicional, como dolor de cabeza, dolor de garganta, fatiga, etc.?\\n\\nAl entender mejor tus síntomas, podré recomendarte un turno médico con la especialidad adecuada.', response_metadata={'token_usage': {'completion_tokens': 140, 'prompt_tokens': 297, 'total_tokens': 437, 'completion_time': 0.438115359, 'prompt_time': 0.015294317, 'queue_time': 0.004298212000000001, 'total_time': 0.453409676}, 'model_name': 'llama3-70b-8192', 'system_fingerprint': 'fp_753a4aecf6', 'finish_reason': 'stop', 'logprobs': None}, id='run-443d9a48-1186-4f8f-87d2-a0253919a266-0', usage_metadata={'input_tokens': 297, 'output_tokens': 140, 'total_tokens': 437}),\n",
       "  HumanMessage(content='esoy von estos sintomas hace una semana, es tos seca y me duele la garganta. mi temperatura de fiebre es de 38 grados')]}"
      ]
     },
     "execution_count": 77,
     "metadata": {},
     "output_type": "execute_result"
    }
   ],
   "source": [
    "\n",
    "state"
   ]
  },
  {
   "cell_type": "code",
   "execution_count": 78,
   "metadata": {},
   "outputs": [
    {
     "data": {
      "text/plain": [
       "{'messages': [HumanMessage(content='Hola', id='3c18eb29-a936-41a2-b912-6cf741b2ad1f'),\n",
       "  AIMessage(content='Hola! Bienvenido a OSPE, la obra social que te brinda atención médica de calidad. ¿En qué puedo ayudarte hoy? ¿Necesitas un turno médico, tienes alguna consulta o síntoma que te preocupa?', response_metadata={'token_usage': {'completion_tokens': 54, 'prompt_tokens': 118, 'total_tokens': 172, 'completion_time': 0.169587042, 'prompt_time': 0.007611643, 'queue_time': -0.0013178530000000008, 'total_time': 0.177198685}, 'model_name': 'llama3-70b-8192', 'system_fingerprint': 'fp_753a4aecf6', 'finish_reason': 'stop', 'logprobs': None}, id='run-a221f700-8ffc-441f-a33a-23e2ba32d715-0', usage_metadata={'input_tokens': 118, 'output_tokens': 54, 'total_tokens': 172}),\n",
       "  HumanMessage(content='Necesito un turno medico', id='141afcf3-ad10-413d-a734-eb7b97952470'),\n",
       "  AIMessage(content='¡Claro! Para poder derivarte a un turno médico adecuado, necesito saber un poco más sobre tu situación. ¿Cuál es el motivo por el que necesitas un turno médico? ¿Tienes algún síntoma o dolor en particular? ¿Has tenido algún problema de salud reciente?\\n\\nPor favor, dime un poco más sobre lo que te pasa, para que pueda orientarte hacia la especialidad adecuada.', response_metadata={'token_usage': {'completion_tokens': 92, 'prompt_tokens': 189, 'total_tokens': 281, 'completion_time': 0.288498998, 'prompt_time': 0.014486863, 'queue_time': 0.0038440859999999983, 'total_time': 0.302985861}, 'model_name': 'llama3-70b-8192', 'system_fingerprint': 'fp_753a4aecf6', 'finish_reason': 'stop', 'logprobs': None}, id='run-e1a8849b-e5c9-4bce-867a-bfee03b8339a-0', usage_metadata={'input_tokens': 189, 'output_tokens': 92, 'total_tokens': 281}),\n",
       "  HumanMessage(content='Tengo tos y fiebre', id='6d42b4c7-dbde-4b26-9ad5-619ba59ec710'),\n",
       "  AIMessage(content='Lo siento. La tos y la fiebre pueden ser síntomas de varias condiciones. Para poder ayudarte mejor, te haré algunas preguntas más.\\n\\n¿Cuánto tiempo llevas con la tos y la fiebre? ¿Es una tos seca o productiva (es decir, estás escupiendo moco)? ¿Cuál es la temperatura de tu fiebre (si la has medido)? ¿Tienes algún otro síntoma adicional, como dolor de cabeza, dolor de garganta, fatiga, etc.?\\n\\nAl entender mejor tus síntomas, podré recomendarte un turno médico con la especialidad adecuada.', response_metadata={'token_usage': {'completion_tokens': 140, 'prompt_tokens': 297, 'total_tokens': 437, 'completion_time': 0.438115359, 'prompt_time': 0.015294317, 'queue_time': 0.004298212000000001, 'total_time': 0.453409676}, 'model_name': 'llama3-70b-8192', 'system_fingerprint': 'fp_753a4aecf6', 'finish_reason': 'stop', 'logprobs': None}, id='run-443d9a48-1186-4f8f-87d2-a0253919a266-0', usage_metadata={'input_tokens': 297, 'output_tokens': 140, 'total_tokens': 437}),\n",
       "  HumanMessage(content='esoy von estos sintomas hace una semana, es tos seca y me duele la garganta. mi temperatura de fiebre es de 38 grados', id='7892d0ca-ad48-466d-a899-be54c59ca5f1'),\n",
       "  AIMessage(content='Gracias por la información. Con una tos seca, dolor de garganta y fiebre de 38 grados, es probable que necesites una evaluación médica para determinar la causa subyacente.\\n\\nBasándome en tus síntomas, te recomiendo un turno médico con un médico especialista en Otorrinolaringología (ORL) o un Médico de Familia. Ellos podrán evaluar tus síntomas, realizar un examen físico y, si es necesario, ordenar pruebas adicionales para determinar la causa de tu condición.\\n\\nTe voy a derivar a un turno médico con un especialista en ORL. ¿Te gustaría que te programe un turno para hoy o mañana? ¿O prefieres elegir una fecha y hora específicas?\\n\\nAdemás, te recomiendo que tomes algunas medidas para aliviar tus síntomas mientras esperas tu turno médico. Puedes tratar de:\\n\\n* Beber mucha agua para mantener tu garganta hidratada\\n* Usar un humidificador para agregar humedad al aire\\n* Evitar hablar en voz alta o gritar para no irritar más tu garganta\\n* Tomar medicamentos para reducir la fiebre, como acetaminofeno o ibuprofeno, si lo necesitas\\n\\n¿Necesitas algo más?', response_metadata={'token_usage': {'completion_tokens': 290, 'prompt_tokens': 480, 'total_tokens': 770, 'completion_time': 0.930793853, 'prompt_time': 0.031814228, 'queue_time': 0.009664179000000002, 'total_time': 0.962608081}, 'model_name': 'llama3-70b-8192', 'system_fingerprint': 'fp_87cbfbbc4d', 'finish_reason': 'stop', 'logprobs': None}, id='run-1ce2a5ee-611c-47ca-9dae-b5db6263b438-0', usage_metadata={'input_tokens': 480, 'output_tokens': 290, 'total_tokens': 770})]}"
      ]
     },
     "execution_count": 78,
     "metadata": {},
     "output_type": "execute_result"
    }
   ],
   "source": [
    "#esta es la celda que corre e graph\n",
    "\n",
    "result = graph.invoke(state)\n",
    "result"
   ]
  }
 ],
 "metadata": {
  "kernelspec": {
   "display_name": "austral",
   "language": "python",
   "name": "python3"
  },
  "language_info": {
   "codemirror_mode": {
    "name": "ipython",
    "version": 3
   },
   "file_extension": ".py",
   "mimetype": "text/x-python",
   "name": "python",
   "nbconvert_exporter": "python",
   "pygments_lexer": "ipython3",
   "version": "3.12.5"
  }
 },
 "nbformat": 4,
 "nbformat_minor": 2
}
