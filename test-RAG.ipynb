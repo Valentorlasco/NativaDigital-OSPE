{
 "cells": [
  {
   "cell_type": "code",
   "execution_count": 1,
   "metadata": {},
   "outputs": [
    {
     "data": {
      "text/plain": [
       "True"
      ]
     },
     "execution_count": 1,
     "metadata": {},
     "output_type": "execute_result"
    }
   ],
   "source": [
    "from dotenv import load_dotenv\n",
    "\n",
    "# Load environment variables from .env file\n",
    "load_dotenv()"
   ]
  },
  {
   "cell_type": "code",
   "execution_count": 2,
   "metadata": {},
   "outputs": [],
   "source": [
    "import os\n",
    "from langchain_community.document_loaders import PyPDFLoader\n",
    "from langchain.text_splitter import RecursiveCharacterTextSplitter\n",
    "from langchain_openai import OpenAIEmbeddings\n",
    "\n",
    "# Define the path to your PDF files\n",
    "pdf_dir = \"./docs\"  # Cambia esto al directorio donde tienes tus PDFs\n",
    "\n",
    "# Load PDF documents\n",
    "pdf_files = [os.path.join(pdf_dir, file) for file in os.listdir(pdf_dir) if file.endswith(\".pdf\")]\n",
    "docs = [PyPDFLoader(pdf).load() for pdf in pdf_files]\n",
    "\n",
    "# Convert list of lists to a single list of documents\n",
    "docs_list = [item for sublist in docs for item in sublist]"
   ]
  },
  {
   "cell_type": "code",
   "execution_count": 3,
   "metadata": {},
   "outputs": [],
   "source": [
    "# Split documents into chunks\n",
    "text_splitter = RecursiveCharacterTextSplitter(chunk_size=200, chunk_overlap=100)\n",
    "doc_splits = text_splitter.split_documents(docs_list) "
   ]
  },
  {
   "cell_type": "code",
   "execution_count": 4,
   "metadata": {},
   "outputs": [
    {
     "data": {
      "text/plain": [
       "45"
      ]
     },
     "execution_count": 4,
     "metadata": {},
     "output_type": "execute_result"
    },
    {
     "ename": "",
     "evalue": "",
     "output_type": "error",
     "traceback": [
      "\u001b[1;31mThe Kernel crashed while executing code in the current cell or a previous cell. \n",
      "\u001b[1;31mPlease review the code in the cell(s) to identify a possible cause of the failure. \n",
      "\u001b[1;31mClick <a href='https://aka.ms/vscodeJupyterKernelCrash'>here</a> for more info. \n",
      "\u001b[1;31mView Jupyter <a href='command:jupyter.viewOutput'>log</a> for further details."
     ]
    }
   ],
   "source": [
    "len(doc_splits)"
   ]
  },
  {
   "cell_type": "code",
   "execution_count": 5,
   "metadata": {},
   "outputs": [],
   "source": [
    "from langchain_community.vectorstores import Chroma\n",
    "\n",
    "# Define el directorio donde se almacenará la base de datos\n",
    "persist_directory = \"./chroma_db\"  # Puedes cambiar esto al directorio que prefieras\n",
    "\n",
    "# Crear la base de datos de vectores local\n",
    "vectorstore = Chroma.from_documents(\n",
    "    documents=doc_splits,\n",
    "    collection_name=\"rag-chroma\",\n",
    "    embedding=OpenAIEmbeddings(),\n",
    "    persist_directory=persist_directory  # Especifica el directorio de persistencia\n",
    ")\n",
    "\n",
    "# # Cargar la base de datos de vectores desde el directorio local\n",
    "# vectorstore = Chroma(\n",
    "#     collection_name=\"rag-chroma\",\n",
    "#     embedding=OpenAIEmbeddings(),\n",
    "#     persist_directory=persist_directory  # Especifica el directorio de persistencia\n",
    "# )"
   ]
  },
  {
   "cell_type": "code",
   "execution_count": 6,
   "metadata": {},
   "outputs": [],
   "source": [
    "retriever = vectorstore.as_retriever()\n",
    "\n",
    "from langchain.tools.retriever import create_retriever_tool\n",
    "\n",
    "retriever_tool = create_retriever_tool(\n",
    "    retriever,\n",
    "    \"retrieve_company_docs\",\n",
    "    \"Search and return information about the company documents\",\n",
    ")"
   ]
  },
  {
   "cell_type": "code",
   "execution_count": 7,
   "metadata": {},
   "outputs": [
    {
     "data": {
      "text/plain": [
       "[Document(metadata={'page': 0, 'source': './docs\\\\OSPE_Documentacion.pdf'}, page_content='OSPE se compromete a ofrecer un servicio de atención al cliente excepcional, asegurando que\\ntodos nuestros afiliados reciban el soporte y la información necesarios de manera eficiente y\\nprofesional.'),\n",
       " Document(metadata={'page': 0, 'source': './docs\\\\OSPE_Documentacion.pdf'}, page_content='OSPE se compromete a ofrecer un servicio de atención al cliente excepcional, asegurando que\\ntodos nuestros afiliados reciban el soporte y la información necesarios de manera eficiente y\\nprofesional.'),\n",
       " Document(metadata={'page': 2, 'source': './docs\\\\OSPE_Documentacion.pdf'}, page_content='OSPE fue fundada como una pequeña aseguradora de salud local y ha crecido hasta convertirse\\nen una empresa con cobertura nacional. A lo largo de los años, hemos expandido nuestra red de'),\n",
       " Document(metadata={'page': 2, 'source': './docs\\\\OSPE_Documentacion.pdf'}, page_content='OSPE fue fundada como una pequeña aseguradora de salud local y ha crecido hasta convertirse\\nen una empresa con cobertura nacional. A lo largo de los años, hemos expandido nuestra red de')]"
      ]
     },
     "execution_count": 7,
     "metadata": {},
     "output_type": "execute_result"
    }
   ],
   "source": [
    "question = \"politica de atencion al cliente\"\n",
    "documents = retriever.invoke(question)\n",
    "documents"
   ]
  }
 ],
 "metadata": {
  "kernelspec": {
   "display_name": "austral",
   "language": "python",
   "name": "python3"
  },
  "language_info": {
   "codemirror_mode": {
    "name": "ipython",
    "version": 3
   },
   "file_extension": ".py",
   "mimetype": "text/x-python",
   "name": "python",
   "nbconvert_exporter": "python",
   "pygments_lexer": "ipython3",
   "version": "3.11.9"
  }
 },
 "nbformat": 4,
 "nbformat_minor": 2
}
